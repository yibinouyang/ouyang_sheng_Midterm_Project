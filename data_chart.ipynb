{
 "cells": [
  {
   "cell_type": "code",
   "execution_count": 16,
   "metadata": {},
   "outputs": [],
   "source": [
    "import pandas as pd\n",
    "import matplotlib.pyplot as plt"
   ]
  },
  {
   "cell_type": "markdown",
   "metadata": {},
   "source": [
    "## Eggs"
   ]
  },
  {
   "cell_type": "code",
   "execution_count": 8,
   "metadata": {},
   "outputs": [],
   "source": [
    "data = pd.read_excel('/Users/constanceliu/Desktop/python/data/traa_data.xlsx', sheet_name='eggs')"
   ]
  },
  {
   "cell_type": "code",
   "execution_count": 10,
   "metadata": {},
   "outputs": [
    {
     "data": {
      "text/html": [
       "<div>\n",
       "<style scoped>\n",
       "    .dataframe tbody tr th:only-of-type {\n",
       "        vertical-align: middle;\n",
       "    }\n",
       "\n",
       "    .dataframe tbody tr th {\n",
       "        vertical-align: top;\n",
       "    }\n",
       "\n",
       "    .dataframe thead th {\n",
       "        text-align: right;\n",
       "    }\n",
       "</style>\n",
       "<table border=\"1\" class=\"dataframe\">\n",
       "  <thead>\n",
       "    <tr style=\"text-align: right;\">\n",
       "      <th></th>\n",
       "      <th>Species</th>\n",
       "      <th>Year</th>\n",
       "      <th>Number of eggs received</th>\n",
       "      <th>Number of eggs hatched/released</th>\n",
       "    </tr>\n",
       "  </thead>\n",
       "  <tbody>\n",
       "    <tr>\n",
       "      <th>0</th>\n",
       "      <td>Rainbow Trout</td>\n",
       "      <td>2014</td>\n",
       "      <td>100000</td>\n",
       "      <td>80000</td>\n",
       "    </tr>\n",
       "    <tr>\n",
       "      <th>1</th>\n",
       "      <td>Brown Trout</td>\n",
       "      <td>2014</td>\n",
       "      <td>100000</td>\n",
       "      <td>70000</td>\n",
       "    </tr>\n",
       "    <tr>\n",
       "      <th>2</th>\n",
       "      <td>Rainbow Trout</td>\n",
       "      <td>2015</td>\n",
       "      <td>150000</td>\n",
       "      <td>120000</td>\n",
       "    </tr>\n",
       "    <tr>\n",
       "      <th>3</th>\n",
       "      <td>Brown Trout</td>\n",
       "      <td>2015</td>\n",
       "      <td>80000</td>\n",
       "      <td>70000</td>\n",
       "    </tr>\n",
       "    <tr>\n",
       "      <th>4</th>\n",
       "      <td>Rainbow Trout</td>\n",
       "      <td>2016</td>\n",
       "      <td>100000</td>\n",
       "      <td>90000</td>\n",
       "    </tr>\n",
       "    <tr>\n",
       "      <th>5</th>\n",
       "      <td>Brown Trout</td>\n",
       "      <td>2016</td>\n",
       "      <td>70000</td>\n",
       "      <td>70000</td>\n",
       "    </tr>\n",
       "    <tr>\n",
       "      <th>6</th>\n",
       "      <td>Rainbow Trout</td>\n",
       "      <td>2017</td>\n",
       "      <td>50000</td>\n",
       "      <td>40000</td>\n",
       "    </tr>\n",
       "    <tr>\n",
       "      <th>7</th>\n",
       "      <td>Brown Trout</td>\n",
       "      <td>2017</td>\n",
       "      <td>80000</td>\n",
       "      <td>70000</td>\n",
       "    </tr>\n",
       "    <tr>\n",
       "      <th>8</th>\n",
       "      <td>Rainbow Trout</td>\n",
       "      <td>2018</td>\n",
       "      <td>150000</td>\n",
       "      <td>140000</td>\n",
       "    </tr>\n",
       "    <tr>\n",
       "      <th>9</th>\n",
       "      <td>Brown Trout</td>\n",
       "      <td>2018</td>\n",
       "      <td>100000</td>\n",
       "      <td>90000</td>\n",
       "    </tr>\n",
       "  </tbody>\n",
       "</table>\n",
       "</div>"
      ],
      "text/plain": [
       "         Species  Year  Number of eggs received  \\\n",
       "0  Rainbow Trout  2014                   100000   \n",
       "1    Brown Trout  2014                   100000   \n",
       "2  Rainbow Trout  2015                   150000   \n",
       "3    Brown Trout  2015                    80000   \n",
       "4  Rainbow Trout  2016                   100000   \n",
       "5    Brown Trout  2016                    70000   \n",
       "6  Rainbow Trout  2017                    50000   \n",
       "7    Brown Trout  2017                    80000   \n",
       "8  Rainbow Trout  2018                   150000   \n",
       "9    Brown Trout  2018                   100000   \n",
       "\n",
       "   Number of eggs hatched/released  \n",
       "0                            80000  \n",
       "1                            70000  \n",
       "2                           120000  \n",
       "3                            70000  \n",
       "4                            90000  \n",
       "5                            70000  \n",
       "6                            40000  \n",
       "7                            70000  \n",
       "8                           140000  \n",
       "9                            90000  "
      ]
     },
     "execution_count": 10,
     "metadata": {},
     "output_type": "execute_result"
    }
   ],
   "source": [
    "data"
   ]
  },
  {
   "cell_type": "code",
   "execution_count": 17,
   "metadata": {},
   "outputs": [
    {
     "data": {
      "text/html": [
       "<div>\n",
       "<style scoped>\n",
       "    .dataframe tbody tr th:only-of-type {\n",
       "        vertical-align: middle;\n",
       "    }\n",
       "\n",
       "    .dataframe tbody tr th {\n",
       "        vertical-align: top;\n",
       "    }\n",
       "\n",
       "    .dataframe thead th {\n",
       "        text-align: right;\n",
       "    }\n",
       "</style>\n",
       "<table border=\"1\" class=\"dataframe\">\n",
       "  <thead>\n",
       "    <tr style=\"text-align: right;\">\n",
       "      <th></th>\n",
       "      <th>Species</th>\n",
       "      <th>Year</th>\n",
       "      <th>Number of eggs received</th>\n",
       "      <th>Number of eggs hatched/released</th>\n",
       "    </tr>\n",
       "  </thead>\n",
       "  <tbody>\n",
       "    <tr>\n",
       "      <th>0</th>\n",
       "      <td>Rainbow Trout</td>\n",
       "      <td>2014</td>\n",
       "      <td>100000</td>\n",
       "      <td>80000</td>\n",
       "    </tr>\n",
       "    <tr>\n",
       "      <th>2</th>\n",
       "      <td>Rainbow Trout</td>\n",
       "      <td>2015</td>\n",
       "      <td>150000</td>\n",
       "      <td>120000</td>\n",
       "    </tr>\n",
       "    <tr>\n",
       "      <th>4</th>\n",
       "      <td>Rainbow Trout</td>\n",
       "      <td>2016</td>\n",
       "      <td>100000</td>\n",
       "      <td>90000</td>\n",
       "    </tr>\n",
       "    <tr>\n",
       "      <th>6</th>\n",
       "      <td>Rainbow Trout</td>\n",
       "      <td>2017</td>\n",
       "      <td>50000</td>\n",
       "      <td>40000</td>\n",
       "    </tr>\n",
       "    <tr>\n",
       "      <th>8</th>\n",
       "      <td>Rainbow Trout</td>\n",
       "      <td>2018</td>\n",
       "      <td>150000</td>\n",
       "      <td>140000</td>\n",
       "    </tr>\n",
       "  </tbody>\n",
       "</table>\n",
       "</div>"
      ],
      "text/plain": [
       "         Species  Year  Number of eggs received  \\\n",
       "0  Rainbow Trout  2014                   100000   \n",
       "2  Rainbow Trout  2015                   150000   \n",
       "4  Rainbow Trout  2016                   100000   \n",
       "6  Rainbow Trout  2017                    50000   \n",
       "8  Rainbow Trout  2018                   150000   \n",
       "\n",
       "   Number of eggs hatched/released  \n",
       "0                            80000  \n",
       "2                           120000  \n",
       "4                            90000  \n",
       "6                            40000  \n",
       "8                           140000  "
      ]
     },
     "execution_count": 17,
     "metadata": {},
     "output_type": "execute_result"
    }
   ],
   "source": [
    "rainbow = data[data['Species'] == 'Rainbow Trout']\n",
    "brown = data[data['Species'] == 'Brown Trout']"
   ]
  },
  {
   "cell_type": "code",
   "execution_count": 22,
   "metadata": {},
   "outputs": [],
   "source": [
    "year_rainbow = rainbow['Year']\n",
    "received_rainbow = rainbow['Number of eggs received']\n",
    "released_rainbow = rainbow['Number of eggs hatched/released']\n",
    "\n",
    "year_brown = brown['Year']\n",
    "received_brown = brown['Number of eggs received']\n",
    "released_brown = brown['Number of eggs hatched/released']"
   ]
  },
  {
   "cell_type": "code",
   "execution_count": 19,
   "metadata": {},
   "outputs": [
    {
     "data": {
      "text/plain": [
       "Index(['Species', 'Year', 'Number of eggs received',\n",
       "       'Number of eggs hatched/released'],\n",
       "      dtype='object')"
      ]
     },
     "execution_count": 19,
     "metadata": {},
     "output_type": "execute_result"
    }
   ],
   "source": [
    "rainbow.columns"
   ]
  },
  {
   "cell_type": "code",
   "execution_count": 36,
   "metadata": {},
   "outputs": [
    {
     "data": {
      "image/png": "[encoded data removed]",
      "text/plain": [
       "<Figure size 432x288 with 1 Axes>"
      ]
     },
     "metadata": {
      "needs_background": "light"
     },
     "output_type": "display_data"
    }
   ],
   "source": [
    "x =list(range(len(year_rainbow)))\n",
    "total_width, n = 0.8, 2\n",
    "width = total_width / n\n",
    " \n",
    "plt.bar(x, received_rainbow, width=width, label='received',fc = 'b')\n",
    "for i in range(len(x)):\n",
    "    x[i] = x[i] + width\n",
    "plt.bar(x, released_rainbow, width=width, label='released',tick_label = year_rainbow, fc = 'r')\n",
    "plt.title(\"Rainbow Trout\")\n",
    "plt.xlabel('Year')\n",
    "plt.ylabel('Number')\n",
    "plt.legend()\n",
    "plt.savefig(\"rainbow.png\")\n",
    "plt.show()"
   ]
  },
  {
   "cell_type": "code",
   "execution_count": 37,
   "metadata": {},
   "outputs": [
    {
     "data": {
      "image/png": "[encoded data removed]",
      "text/plain": [
       "<Figure size 432x288 with 1 Axes>"
      ]
     },
     "metadata": {
      "needs_background": "light"
     },
     "output_type": "display_data"
    }
   ],
   "source": [
    "x =list(range(len(year_brown)))\n",
    "total_width, n = 0.8, 2\n",
    "width = total_width / n\n",
    " \n",
    "plt.bar(x, received_brown, width=width, label='received',fc = 'b')\n",
    "for i in range(len(x)):\n",
    "    x[i] = x[i] + width\n",
    "plt.bar(x, released_brown, width=width, label='released',tick_label = year_brown, fc = 'r')\n",
    "plt.title(\"Brown Trout\")\n",
    "plt.xlabel('Year')\n",
    "plt.ylabel('Number')\n",
    "plt.legend()\n",
    "plt.savefig(\"brown.png\")\n",
    "plt.show()"
   ]
  },
  {
   "cell_type": "markdown",
   "metadata": {},
   "source": [
    "## Membership"
   ]
  },
  {
   "cell_type": "code",
   "execution_count": 38,
   "metadata": {},
   "outputs": [],
   "source": [
    "data = pd.read_excel('/Users/constanceliu/Desktop/python/data/traa_data.xlsx', sheet_name='membership')"
   ]
  },
  {
   "cell_type": "code",
   "execution_count": 39,
   "metadata": {},
   "outputs": [
    {
     "data": {
      "text/html": [
       "<div>\n",
       "<style scoped>\n",
       "    .dataframe tbody tr th:only-of-type {\n",
       "        vertical-align: middle;\n",
       "    }\n",
       "\n",
       "    .dataframe tbody tr th {\n",
       "        vertical-align: top;\n",
       "    }\n",
       "\n",
       "    .dataframe thead th {\n",
       "        text-align: right;\n",
       "    }\n",
       "</style>\n",
       "<table border=\"1\" class=\"dataframe\">\n",
       "  <thead>\n",
       "    <tr style=\"text-align: right;\">\n",
       "      <th></th>\n",
       "      <th>Year</th>\n",
       "      <th>Membership Numbers</th>\n",
       "    </tr>\n",
       "  </thead>\n",
       "  <tbody>\n",
       "    <tr>\n",
       "      <th>0</th>\n",
       "      <td>2002</td>\n",
       "      <td>52</td>\n",
       "    </tr>\n",
       "    <tr>\n",
       "      <th>1</th>\n",
       "      <td>2003</td>\n",
       "      <td>48</td>\n",
       "    </tr>\n",
       "    <tr>\n",
       "      <th>2</th>\n",
       "      <td>2004</td>\n",
       "      <td>67</td>\n",
       "    </tr>\n",
       "    <tr>\n",
       "      <th>3</th>\n",
       "      <td>2005</td>\n",
       "      <td>45</td>\n",
       "    </tr>\n",
       "    <tr>\n",
       "      <th>4</th>\n",
       "      <td>2006</td>\n",
       "      <td>45</td>\n",
       "    </tr>\n",
       "    <tr>\n",
       "      <th>5</th>\n",
       "      <td>2007</td>\n",
       "      <td>50</td>\n",
       "    </tr>\n",
       "    <tr>\n",
       "      <th>6</th>\n",
       "      <td>2008</td>\n",
       "      <td>55</td>\n",
       "    </tr>\n",
       "    <tr>\n",
       "      <th>7</th>\n",
       "      <td>2009</td>\n",
       "      <td>67</td>\n",
       "    </tr>\n",
       "    <tr>\n",
       "      <th>8</th>\n",
       "      <td>2010</td>\n",
       "      <td>65</td>\n",
       "    </tr>\n",
       "    <tr>\n",
       "      <th>9</th>\n",
       "      <td>2011</td>\n",
       "      <td>70</td>\n",
       "    </tr>\n",
       "    <tr>\n",
       "      <th>10</th>\n",
       "      <td>2012</td>\n",
       "      <td>60</td>\n",
       "    </tr>\n",
       "    <tr>\n",
       "      <th>11</th>\n",
       "      <td>2013</td>\n",
       "      <td>60</td>\n",
       "    </tr>\n",
       "    <tr>\n",
       "      <th>12</th>\n",
       "      <td>2014</td>\n",
       "      <td>55</td>\n",
       "    </tr>\n",
       "    <tr>\n",
       "      <th>13</th>\n",
       "      <td>2015</td>\n",
       "      <td>60</td>\n",
       "    </tr>\n",
       "    <tr>\n",
       "      <th>14</th>\n",
       "      <td>2016</td>\n",
       "      <td>65</td>\n",
       "    </tr>\n",
       "    <tr>\n",
       "      <th>15</th>\n",
       "      <td>2017</td>\n",
       "      <td>75</td>\n",
       "    </tr>\n",
       "    <tr>\n",
       "      <th>16</th>\n",
       "      <td>2018</td>\n",
       "      <td>80</td>\n",
       "    </tr>\n",
       "  </tbody>\n",
       "</table>\n",
       "</div>"
      ],
      "text/plain": [
       "    Year  Membership Numbers\n",
       "0   2002                  52\n",
       "1   2003                  48\n",
       "2   2004                  67\n",
       "3   2005                  45\n",
       "4   2006                  45\n",
       "5   2007                  50\n",
       "6   2008                  55\n",
       "7   2009                  67\n",
       "8   2010                  65\n",
       "9   2011                  70\n",
       "10  2012                  60\n",
       "11  2013                  60\n",
       "12  2014                  55\n",
       "13  2015                  60\n",
       "14  2016                  65\n",
       "15  2017                  75\n",
       "16  2018                  80"
      ]
     },
     "execution_count": 39,
     "metadata": {},
     "output_type": "execute_result"
    }
   ],
   "source": [
    "data"
   ]
  },
  {
   "cell_type": "code",
   "execution_count": 52,
   "metadata": {},
   "outputs": [
    {
     "data": {
      "image/png": "[encoded data removed]",
      "text/plain": [
       "<Figure size 1440x360 with 1 Axes>"
      ]
     },
     "metadata": {
      "needs_background": "light"
     },
     "output_type": "display_data"
    }
   ],
   "source": [
    "year = data['Year']\n",
    "membership = data['Membership Numbers']\n",
    "x =list(range(len(year)))\n",
    "plt.figure(figsize=(20,5))\n",
    "plt.bar(x, membership, tick_label = year, fc = 'b')\n",
    "plt.title(\"Membership\")\n",
    "plt.xlabel('Year')\n",
    "plt.ylabel('Number')\n",
    "plt.savefig(\"membership.png\")\n",
    "plt.show()"
   ]
  },
  {
   "cell_type": "markdown",
   "metadata": {},
   "source": [
    "## Electrofishing"
   ]
  },
  {
   "cell_type": "code",
   "execution_count": 53,
   "metadata": {},
   "outputs": [],
   "source": [
    "data = pd.read_excel('/Users/constanceliu/Desktop/python/data/traa_data.xlsx', sheet_name='Electrofishing')"
   ]
  },
  {
   "cell_type": "code",
   "execution_count": 54,
   "metadata": {},
   "outputs": [
    {
     "data": {
      "text/html": [
       "<div>\n",
       "<style scoped>\n",
       "    .dataframe tbody tr th:only-of-type {\n",
       "        vertical-align: middle;\n",
       "    }\n",
       "\n",
       "    .dataframe tbody tr th {\n",
       "        vertical-align: top;\n",
       "    }\n",
       "\n",
       "    .dataframe thead th {\n",
       "        text-align: right;\n",
       "    }\n",
       "</style>\n",
       "<table border=\"1\" class=\"dataframe\">\n",
       "  <thead>\n",
       "    <tr style=\"text-align: right;\">\n",
       "      <th></th>\n",
       "      <th>Creek Name</th>\n",
       "      <th>Year</th>\n",
       "      <th>Number of Fish Caught</th>\n",
       "      <th>Species</th>\n",
       "    </tr>\n",
       "  </thead>\n",
       "  <tbody>\n",
       "    <tr>\n",
       "      <th>0</th>\n",
       "      <td>Komoka</td>\n",
       "      <td>2016</td>\n",
       "      <td>15</td>\n",
       "      <td>Rainbow Trout</td>\n",
       "    </tr>\n",
       "    <tr>\n",
       "      <th>1</th>\n",
       "      <td>Oxbow</td>\n",
       "      <td>2016</td>\n",
       "      <td>10</td>\n",
       "      <td>Rainbow Trout</td>\n",
       "    </tr>\n",
       "    <tr>\n",
       "      <th>2</th>\n",
       "      <td>Dingman</td>\n",
       "      <td>2016</td>\n",
       "      <td>13</td>\n",
       "      <td>Rainbow Trout</td>\n",
       "    </tr>\n",
       "    <tr>\n",
       "      <th>3</th>\n",
       "      <td>Komoka</td>\n",
       "      <td>2017</td>\n",
       "      <td>14</td>\n",
       "      <td>Rainbow Trout</td>\n",
       "    </tr>\n",
       "    <tr>\n",
       "      <th>4</th>\n",
       "      <td>Oxbow</td>\n",
       "      <td>2017</td>\n",
       "      <td>18</td>\n",
       "      <td>Rainbow Trout</td>\n",
       "    </tr>\n",
       "    <tr>\n",
       "      <th>5</th>\n",
       "      <td>Dingman</td>\n",
       "      <td>2017</td>\n",
       "      <td>15</td>\n",
       "      <td>Rainbow Trout</td>\n",
       "    </tr>\n",
       "    <tr>\n",
       "      <th>6</th>\n",
       "      <td>Komoka</td>\n",
       "      <td>2018</td>\n",
       "      <td>23</td>\n",
       "      <td>Rainbow Trout</td>\n",
       "    </tr>\n",
       "    <tr>\n",
       "      <th>7</th>\n",
       "      <td>Oxbow</td>\n",
       "      <td>2018</td>\n",
       "      <td>12</td>\n",
       "      <td>Rainbow Trout</td>\n",
       "    </tr>\n",
       "    <tr>\n",
       "      <th>8</th>\n",
       "      <td>Dingman</td>\n",
       "      <td>2018</td>\n",
       "      <td>14</td>\n",
       "      <td>Rainbow Trout</td>\n",
       "    </tr>\n",
       "  </tbody>\n",
       "</table>\n",
       "</div>"
      ],
      "text/plain": [
       "  Creek Name  Year  Number of Fish Caught        Species\n",
       "0     Komoka  2016                     15  Rainbow Trout\n",
       "1      Oxbow  2016                     10  Rainbow Trout\n",
       "2    Dingman  2016                     13  Rainbow Trout\n",
       "3     Komoka  2017                     14  Rainbow Trout\n",
       "4      Oxbow  2017                     18  Rainbow Trout\n",
       "5    Dingman  2017                     15  Rainbow Trout\n",
       "6     Komoka  2018                     23  Rainbow Trout\n",
       "7      Oxbow  2018                     12  Rainbow Trout\n",
       "8    Dingman  2018                     14  Rainbow Trout"
      ]
     },
     "execution_count": 54,
     "metadata": {},
     "output_type": "execute_result"
    }
   ],
   "source": [
    "data"
   ]
  },
  {
   "cell_type": "code",
   "execution_count": 55,
   "metadata": {},
   "outputs": [],
   "source": [
    "Komoka = data[data['Creek Name'] == 'Komoka']\n",
    "Oxbow = data[data['Creek Name'] == 'Oxbow']"
   ]
  },
  {
   "cell_type": "code",
   "execution_count": 57,
   "metadata": {},
   "outputs": [
    {
     "data": {
      "text/plain": [
       "Index(['Creek Name', 'Year', 'Number of Fish Caught', 'Species'], dtype='object')"
      ]
     },
     "execution_count": 57,
     "metadata": {},
     "output_type": "execute_result"
    }
   ],
   "source": [
    "data.columns"
   ]
  },
  {
   "cell_type": "code",
   "execution_count": 58,
   "metadata": {},
   "outputs": [],
   "source": [
    "year_Komoka = Komoka['Year']\n",
    "caught_Komoka = Komoka['Number of Fish Caught']\n",
    "\n",
    "year_Oxbow = Oxbow['Year']\n",
    "caught_Oxbow = Oxbow['Number of Fish Caught']"
   ]
  },
  {
   "cell_type": "code",
   "execution_count": 60,
   "metadata": {},
   "outputs": [
    {
     "data": {
      "image/png": "[encoded data removed]",
      "text/plain": [
       "<Figure size 432x288 with 1 Axes>"
      ]
     },
     "metadata": {
      "needs_background": "light"
     },
     "output_type": "display_data"
    }
   ],
   "source": [
    "x =list(range(len(year_Komoka)))\n",
    "total_width, n = 0.8, 2\n",
    "width = total_width / n\n",
    " \n",
    "plt.bar(x, caught_Komoka, width=width, label='Komoka',fc = 'b')\n",
    "for i in range(len(x)):\n",
    "    x[i] = x[i] + width\n",
    "plt.bar(x, caught_Oxbow, width=width, label='Oxbow',tick_label = year_Komoka, fc = 'r')\n",
    "plt.title(\"Electrofishing\")\n",
    "plt.xlabel('Year')\n",
    "plt.ylabel('Number of Fish Caught')\n",
    "plt.legend()\n",
    "plt.savefig(\"electrofishing.png\")\n",
    "plt.show()"
   ]
  },
  {
   "cell_type": "code",
   "execution_count": null,
   "metadata": {},
   "outputs": [],
   "source": []
  }
 ],
 "metadata": {
  "kernelspec": {
   "display_name": "Python 3",
   "language": "python",
   "name": "python3"
  },
  "language_info": {
   "codemirror_mode": {
    "name": "ipython",
    "version": 3
   },
   "file_extension": ".py",
   "mimetype": "text/x-python",
   "name": "python",
   "nbconvert_exporter": "python",
   "pygments_lexer": "ipython3",
   "version": "3.6.8"
  }
 },
 "nbformat": 4,
 "nbformat_minor": 2
}
